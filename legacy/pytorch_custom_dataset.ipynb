{
 "metadata": {
  "language_info": {
   "codemirror_mode": {
    "name": "ipython",
    "version": 3
   },
   "file_extension": ".py",
   "mimetype": "text/x-python",
   "name": "python",
   "nbconvert_exporter": "python",
   "pygments_lexer": "ipython3",
   "version": "3.7.9-final"
  },
  "orig_nbformat": 2,
  "kernelspec": {
   "name": "Python 3.7.9 64-bit ('pytorch': conda)",
   "display_name": "Python 3.7.9 64-bit ('pytorch': conda)",
   "metadata": {
    "interpreter": {
     "hash": "0034f7d3cc7f74327bbee5f645e2b1521dda80e066af1cb1d1ca021bc9387771"
    }
   }
  }
 },
 "nbformat": 4,
 "nbformat_minor": 2,
 "cells": [
  {
   "cell_type": "code",
   "execution_count": 1,
   "metadata": {},
   "outputs": [],
   "source": [
    "import torch\n",
    "import torch.nn.functional as F\n",
    "from torch.utils.data import Dataset,DataLoader"
   ]
  },
  {
   "cell_type": "code",
   "execution_count": 2,
   "metadata": {},
   "outputs": [],
   "source": [
    "class CustomDataset(Dataset):\n",
    "    def __init__(self):\n",
    "        self.x_data = [[73, 80, 75],\n",
    "                    [93, 88, 93],\n",
    "                    [89, 91, 90],\n",
    "                    [96, 98, 100],\n",
    "                    [73, 66, 70]]\n",
    "        self.y_data = [[152], [185], [180], [196], [142]]\n",
    "    def __len__(self):\n",
    "        return len(self.x_data)\n",
    "\n",
    "    def __getitem__(self,idx):\n",
    "        x=torch.FloatTensor(self.x_data[idx])\n",
    "        y=torch.FloatTensor(self.y_data[idx])\n",
    "        return x,y"
   ]
  },
  {
   "cell_type": "code",
   "execution_count": 3,
   "metadata": {},
   "outputs": [],
   "source": [
    "dataset = CustomDataset()\n",
    "dataloader = DataLoader(dataset,batch_size=2,shuffle=True)\n",
    "\n",
    "model = torch.nn.Linear(3,1)\n",
    "optimizer = torch.optim.SGD(model.parameters(),lr=1e-5)"
   ]
  },
  {
   "cell_type": "code",
   "execution_count": 4,
   "metadata": {},
   "outputs": [
    {
     "output_type": "stream",
     "name": "stdout",
     "text": [
      "Epoch    0/20 Batch 1/3 Cost: 53865.070312\nEpoch    0/20 Batch 2/3 Cost: 6749.312500\nEpoch    0/20 Batch 3/3 Cost: 4474.193359\nEpoch    1/20 Batch 1/3 Cost: 890.280701\nEpoch    1/20 Batch 2/3 Cost: 574.074219\nEpoch    1/20 Batch 3/3 Cost: 254.811935\nEpoch    2/20 Batch 1/3 Cost: 37.560509\nEpoch    2/20 Batch 2/3 Cost: 17.216980\nEpoch    2/20 Batch 3/3 Cost: 0.434377\nEpoch    3/20 Batch 1/3 Cost: 3.008652\nEpoch    3/20 Batch 2/3 Cost: 18.367342\nEpoch    3/20 Batch 3/3 Cost: 17.626135\nEpoch    4/20 Batch 1/3 Cost: 6.940423\nEpoch    4/20 Batch 2/3 Cost: 17.345963\nEpoch    4/20 Batch 3/3 Cost: 6.225153\nEpoch    5/20 Batch 1/3 Cost: 12.668703\nEpoch    5/20 Batch 2/3 Cost: 7.165915\nEpoch    5/20 Batch 3/3 Cost: 16.600750\nEpoch    6/20 Batch 1/3 Cost: 14.920789\nEpoch    6/20 Batch 2/3 Cost: 7.847282\nEpoch    6/20 Batch 3/3 Cost: 15.219713\nEpoch    7/20 Batch 1/3 Cost: 15.414515\nEpoch    7/20 Batch 2/3 Cost: 6.825778\nEpoch    7/20 Batch 3/3 Cost: 22.928251\nEpoch    8/20 Batch 1/3 Cost: 6.436310\nEpoch    8/20 Batch 2/3 Cost: 13.178888\nEpoch    8/20 Batch 3/3 Cost: 25.444925\nEpoch    9/20 Batch 1/3 Cost: 15.496134\nEpoch    9/20 Batch 2/3 Cost: 8.066113\nEpoch    9/20 Batch 3/3 Cost: 19.047678\nEpoch   10/20 Batch 1/3 Cost: 11.331999\nEpoch   10/20 Batch 2/3 Cost: 13.912678\nEpoch   10/20 Batch 3/3 Cost: 7.057934\nEpoch   11/20 Batch 1/3 Cost: 17.127289\nEpoch   11/20 Batch 2/3 Cost: 2.216774\nEpoch   11/20 Batch 3/3 Cost: 18.869093\nEpoch   12/20 Batch 1/3 Cost: 6.549772\nEpoch   12/20 Batch 2/3 Cost: 17.003250\nEpoch   12/20 Batch 3/3 Cost: 6.435685\nEpoch   13/20 Batch 1/3 Cost: 6.093924\nEpoch   13/20 Batch 2/3 Cost: 27.659409\nEpoch   13/20 Batch 3/3 Cost: 6.077260\nEpoch   14/20 Batch 1/3 Cost: 5.700110\nEpoch   14/20 Batch 2/3 Cost: 11.760720\nEpoch   14/20 Batch 3/3 Cost: 22.597883\nEpoch   15/20 Batch 1/3 Cost: 16.897541\nEpoch   15/20 Batch 2/3 Cost: 18.541487\nEpoch   15/20 Batch 3/3 Cost: 10.395055\nEpoch   16/20 Batch 1/3 Cost: 7.596076\nEpoch   16/20 Batch 2/3 Cost: 10.771413\nEpoch   16/20 Batch 3/3 Cost: 21.335192\nEpoch   17/20 Batch 1/3 Cost: 10.956030\nEpoch   17/20 Batch 2/3 Cost: 16.210569\nEpoch   17/20 Batch 3/3 Cost: 14.419272\nEpoch   18/20 Batch 1/3 Cost: 13.527956\nEpoch   18/20 Batch 2/3 Cost: 6.998550\nEpoch   18/20 Batch 3/3 Cost: 23.116264\nEpoch   19/20 Batch 1/3 Cost: 6.906051\nEpoch   19/20 Batch 2/3 Cost: 10.468388\nEpoch   19/20 Batch 3/3 Cost: 20.234760\nEpoch   20/20 Batch 1/3 Cost: 0.730067\nEpoch   20/20 Batch 2/3 Cost: 13.915859\nEpoch   20/20 Batch 3/3 Cost: 24.550833\n"
     ]
    }
   ],
   "source": [
    "nb_epochs = 20\n",
    "\n",
    "for epoch in range(nb_epochs+1):\n",
    "    for batch_idx,samples in enumerate(dataloader):\n",
    "        x_train, y_train = samples\n",
    "        prediction = model(x_train)\n",
    "        cost = F.mse_loss(prediction,y_train)\n",
    "\n",
    "        optimizer.zero_grad()\n",
    "        cost.backward()\n",
    "        optimizer.step()\n",
    "\n",
    "        print('Epoch {:4d}/{} Batch {}/{} Cost: {:.6f}'.format(\n",
    "        epoch, nb_epochs, batch_idx+1, len(dataloader),\n",
    "        cost.item()\n",
    "        ))"
   ]
  },
  {
   "cell_type": "code",
   "execution_count": 5,
   "metadata": {},
   "outputs": [
    {
     "output_type": "stream",
     "name": "stdout",
     "text": [
      "훈련 후 입력이 73, 80, 75일 때의 예측값 : tensor([[156.6592]], grad_fn=<AddmmBackward>)\n"
     ]
    }
   ],
   "source": [
    "# 임의의 입력 [73, 80, 75]를 선언\n",
    "new_var =  torch.FloatTensor([[73, 80, 75]]) \n",
    "# 입력한 값 [73, 80, 75]에 대해서 예측값 y를 리턴받아서 pred_y에 저장\n",
    "pred_y = model(new_var) \n",
    "print(\"훈련 후 입력이 73, 80, 75일 때의 예측값 :\", pred_y) "
   ]
  },
  {
   "cell_type": "code",
   "execution_count": null,
   "metadata": {},
   "outputs": [],
   "source": []
  }
 ]
}