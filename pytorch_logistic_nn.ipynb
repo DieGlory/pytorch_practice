{
 "metadata": {
  "language_info": {
   "codemirror_mode": {
    "name": "ipython",
    "version": 3
   },
   "file_extension": ".py",
   "mimetype": "text/x-python",
   "name": "python",
   "nbconvert_exporter": "python",
   "pygments_lexer": "ipython3",
   "version": "3.7.9-final"
  },
  "orig_nbformat": 2,
  "kernelspec": {
   "name": "Python 3.7.9 64-bit ('pytorch': conda)",
   "display_name": "Python 3.7.9 64-bit ('pytorch': conda)",
   "metadata": {
    "interpreter": {
     "hash": "0034f7d3cc7f74327bbee5f645e2b1521dda80e066af1cb1d1ca021bc9387771"
    }
   }
  }
 },
 "nbformat": 4,
 "nbformat_minor": 2,
 "cells": [
  {
   "cell_type": "code",
   "execution_count": 1,
   "metadata": {},
   "outputs": [],
   "source": [
    "import torch\n",
    "import torch.nn as nn\n",
    "import torch.nn.functional as F\n",
    "import torch.optim as optim"
   ]
  },
  {
   "cell_type": "code",
   "execution_count": 2,
   "metadata": {},
   "outputs": [
    {
     "output_type": "execute_result",
     "data": {
      "text/plain": [
       "<torch._C.Generator at 0x1d99bb32990>"
      ]
     },
     "metadata": {},
     "execution_count": 2
    }
   ],
   "source": [
    "torch.manual_seed(1)"
   ]
  },
  {
   "cell_type": "code",
   "execution_count": 3,
   "metadata": {},
   "outputs": [],
   "source": [
    "x_data = [[1, 2], [2, 3], [3, 1], [4, 3], [5, 3], [6, 2]]\n",
    "y_data = [[0], [0], [0], [1], [1], [1]]\n",
    "x_train = torch.FloatTensor(x_data)\n",
    "y_train = torch.FloatTensor(y_data)"
   ]
  },
  {
   "cell_type": "code",
   "execution_count": 5,
   "metadata": {},
   "outputs": [],
   "source": [
    "model = nn.Sequential(\n",
    "    nn.Linear(2,1),\n",
    "    nn.Sigmoid()\n",
    ")"
   ]
  },
  {
   "cell_type": "code",
   "execution_count": 6,
   "metadata": {},
   "outputs": [
    {
     "output_type": "execute_result",
     "data": {
      "text/plain": [
       "tensor([[0.4020],\n",
       "        [0.4147],\n",
       "        [0.6556],\n",
       "        [0.5948],\n",
       "        [0.6788],\n",
       "        [0.8061]], grad_fn=<SigmoidBackward>)"
      ]
     },
     "metadata": {},
     "execution_count": 6
    }
   ],
   "source": [
    "model(x_train)"
   ]
  },
  {
   "cell_type": "code",
   "execution_count": 11,
   "metadata": {},
   "outputs": [],
   "source": [
    "optimizer = optim.SGD(model.parameters(),lr=1)"
   ]
  },
  {
   "cell_type": "code",
   "execution_count": 12,
   "metadata": {},
   "outputs": [
    {
     "output_type": "stream",
     "name": "stdout",
     "text": [
      "Epoch    0/1000 Cost: 0.539226 Accuracy 83.33%\n",
      "Epoch   10/1000 Cost: 0.596019 Accuracy 66.67%\n",
      "Epoch   20/1000 Cost: 0.443233 Accuracy 66.67%\n",
      "Epoch   30/1000 Cost: 0.373563 Accuracy 83.33%\n",
      "Epoch   40/1000 Cost: 0.316691 Accuracy 83.33%\n",
      "Epoch   50/1000 Cost: 0.266393 Accuracy 83.33%\n",
      "Epoch   60/1000 Cost: 0.220765 Accuracy 100.00%\n",
      "Epoch   70/1000 Cost: 0.182298 Accuracy 100.00%\n",
      "Epoch   80/1000 Cost: 0.157408 Accuracy 100.00%\n",
      "Epoch   90/1000 Cost: 0.144158 Accuracy 100.00%\n",
      "Epoch  100/1000 Cost: 0.134328 Accuracy 100.00%\n",
      "Epoch  110/1000 Cost: 0.125818 Accuracy 100.00%\n",
      "Epoch  120/1000 Cost: 0.118341 Accuracy 100.00%\n",
      "Epoch  130/1000 Cost: 0.111719 Accuracy 100.00%\n",
      "Epoch  140/1000 Cost: 0.105813 Accuracy 100.00%\n",
      "Epoch  150/1000 Cost: 0.100514 Accuracy 100.00%\n",
      "Epoch  160/1000 Cost: 0.095732 Accuracy 100.00%\n",
      "Epoch  170/1000 Cost: 0.091395 Accuracy 100.00%\n",
      "Epoch  180/1000 Cost: 0.087443 Accuracy 100.00%\n",
      "Epoch  190/1000 Cost: 0.083827 Accuracy 100.00%\n",
      "Epoch  200/1000 Cost: 0.080506 Accuracy 100.00%\n",
      "Epoch  210/1000 Cost: 0.077444 Accuracy 100.00%\n",
      "Epoch  220/1000 Cost: 0.074612 Accuracy 100.00%\n",
      "Epoch  230/1000 Cost: 0.071985 Accuracy 100.00%\n",
      "Epoch  240/1000 Cost: 0.069541 Accuracy 100.00%\n",
      "Epoch  250/1000 Cost: 0.067262 Accuracy 100.00%\n",
      "Epoch  260/1000 Cost: 0.065131 Accuracy 100.00%\n",
      "Epoch  270/1000 Cost: 0.063134 Accuracy 100.00%\n",
      "Epoch  280/1000 Cost: 0.061258 Accuracy 100.00%\n",
      "Epoch  290/1000 Cost: 0.059494 Accuracy 100.00%\n",
      "Epoch  300/1000 Cost: 0.057830 Accuracy 100.00%\n",
      "Epoch  310/1000 Cost: 0.056259 Accuracy 100.00%\n",
      "Epoch  320/1000 Cost: 0.054773 Accuracy 100.00%\n",
      "Epoch  330/1000 Cost: 0.053366 Accuracy 100.00%\n",
      "Epoch  340/1000 Cost: 0.052030 Accuracy 100.00%\n",
      "Epoch  350/1000 Cost: 0.050761 Accuracy 100.00%\n",
      "Epoch  360/1000 Cost: 0.049553 Accuracy 100.00%\n",
      "Epoch  370/1000 Cost: 0.048403 Accuracy 100.00%\n",
      "Epoch  380/1000 Cost: 0.047306 Accuracy 100.00%\n",
      "Epoch  390/1000 Cost: 0.046259 Accuracy 100.00%\n",
      "Epoch  400/1000 Cost: 0.045258 Accuracy 100.00%\n",
      "Epoch  410/1000 Cost: 0.044300 Accuracy 100.00%\n",
      "Epoch  420/1000 Cost: 0.043382 Accuracy 100.00%\n",
      "Epoch  430/1000 Cost: 0.042502 Accuracy 100.00%\n",
      "Epoch  440/1000 Cost: 0.041658 Accuracy 100.00%\n",
      "Epoch  450/1000 Cost: 0.040848 Accuracy 100.00%\n",
      "Epoch  460/1000 Cost: 0.040069 Accuracy 100.00%\n",
      "Epoch  470/1000 Cost: 0.039319 Accuracy 100.00%\n",
      "Epoch  480/1000 Cost: 0.038598 Accuracy 100.00%\n",
      "Epoch  490/1000 Cost: 0.037903 Accuracy 100.00%\n",
      "Epoch  500/1000 Cost: 0.037233 Accuracy 100.00%\n",
      "Epoch  510/1000 Cost: 0.036586 Accuracy 100.00%\n",
      "Epoch  520/1000 Cost: 0.035962 Accuracy 100.00%\n",
      "Epoch  530/1000 Cost: 0.035359 Accuracy 100.00%\n",
      "Epoch  540/1000 Cost: 0.034777 Accuracy 100.00%\n",
      "Epoch  550/1000 Cost: 0.034213 Accuracy 100.00%\n",
      "Epoch  560/1000 Cost: 0.033668 Accuracy 100.00%\n",
      "Epoch  570/1000 Cost: 0.033140 Accuracy 100.00%\n",
      "Epoch  580/1000 Cost: 0.032628 Accuracy 100.00%\n",
      "Epoch  590/1000 Cost: 0.032133 Accuracy 100.00%\n",
      "Epoch  600/1000 Cost: 0.031652 Accuracy 100.00%\n",
      "Epoch  610/1000 Cost: 0.031186 Accuracy 100.00%\n",
      "Epoch  620/1000 Cost: 0.030733 Accuracy 100.00%\n",
      "Epoch  630/1000 Cost: 0.030294 Accuracy 100.00%\n",
      "Epoch  640/1000 Cost: 0.029867 Accuracy 100.00%\n",
      "Epoch  650/1000 Cost: 0.029452 Accuracy 100.00%\n",
      "Epoch  660/1000 Cost: 0.029048 Accuracy 100.00%\n",
      "Epoch  670/1000 Cost: 0.028656 Accuracy 100.00%\n",
      "Epoch  680/1000 Cost: 0.028274 Accuracy 100.00%\n",
      "Epoch  690/1000 Cost: 0.027902 Accuracy 100.00%\n",
      "Epoch  700/1000 Cost: 0.027540 Accuracy 100.00%\n",
      "Epoch  710/1000 Cost: 0.027188 Accuracy 100.00%\n",
      "Epoch  720/1000 Cost: 0.026844 Accuracy 100.00%\n",
      "Epoch  730/1000 Cost: 0.026509 Accuracy 100.00%\n",
      "Epoch  740/1000 Cost: 0.026183 Accuracy 100.00%\n",
      "Epoch  750/1000 Cost: 0.025864 Accuracy 100.00%\n",
      "Epoch  760/1000 Cost: 0.025554 Accuracy 100.00%\n",
      "Epoch  770/1000 Cost: 0.025250 Accuracy 100.00%\n",
      "Epoch  780/1000 Cost: 0.024954 Accuracy 100.00%\n",
      "Epoch  790/1000 Cost: 0.024665 Accuracy 100.00%\n",
      "Epoch  800/1000 Cost: 0.024382 Accuracy 100.00%\n",
      "Epoch  810/1000 Cost: 0.024106 Accuracy 100.00%\n",
      "Epoch  820/1000 Cost: 0.023836 Accuracy 100.00%\n",
      "Epoch  830/1000 Cost: 0.023572 Accuracy 100.00%\n",
      "Epoch  840/1000 Cost: 0.023314 Accuracy 100.00%\n",
      "Epoch  850/1000 Cost: 0.023062 Accuracy 100.00%\n",
      "Epoch  860/1000 Cost: 0.022815 Accuracy 100.00%\n",
      "Epoch  870/1000 Cost: 0.022574 Accuracy 100.00%\n",
      "Epoch  880/1000 Cost: 0.022337 Accuracy 100.00%\n",
      "Epoch  890/1000 Cost: 0.022105 Accuracy 100.00%\n",
      "Epoch  900/1000 Cost: 0.021879 Accuracy 100.00%\n",
      "Epoch  910/1000 Cost: 0.021656 Accuracy 100.00%\n",
      "Epoch  920/1000 Cost: 0.021439 Accuracy 100.00%\n",
      "Epoch  930/1000 Cost: 0.021226 Accuracy 100.00%\n",
      "Epoch  940/1000 Cost: 0.021016 Accuracy 100.00%\n",
      "Epoch  950/1000 Cost: 0.020811 Accuracy 100.00%\n",
      "Epoch  960/1000 Cost: 0.020610 Accuracy 100.00%\n",
      "Epoch  970/1000 Cost: 0.020413 Accuracy 100.00%\n",
      "Epoch  980/1000 Cost: 0.020220 Accuracy 100.00%\n",
      "Epoch  990/1000 Cost: 0.020030 Accuracy 100.00%\n",
      "Epoch 1000/1000 Cost: 0.019844 Accuracy 100.00%\n"
     ]
    }
   ],
   "source": [
    "nb_epochs = 1000\n",
    "\n",
    "for epoch in range(nb_epochs+1):\n",
    "    hypothesis = model(x_train)\n",
    "    cost = F.binary_cross_entropy(hypothesis,y_train)\n",
    "\n",
    "    optimizer.zero_grad()\n",
    "    cost.backward()\n",
    "    optimizer.step()\n",
    "    if epoch % 10 == 0:\n",
    "        prediction = hypothesis >= torch.FloatTensor([0.5]) # 예측값이 0.5를 넘으면 True로 간주\n",
    "        correct_prediction = prediction.float() == y_train # 실제값과 일치하는 경우만 True로 간주\n",
    "        accuracy = correct_prediction.sum().item() / len(correct_prediction) # 정확도를 계산\n",
    "        print('Epoch {:4d}/{} Cost: {:.6f} Accuracy {:2.2f}%'.format( # 각 에포크마다 정확도를 출력\n",
    "            epoch, nb_epochs, cost.item(), accuracy * 100,\n",
    "        ))\n"
   ]
  },
  {
   "cell_type": "code",
   "execution_count": 13,
   "metadata": {},
   "outputs": [
    {
     "output_type": "execute_result",
     "data": {
      "text/plain": [
       "tensor([[2.7620e-04],\n",
       "        [3.1596e-02],\n",
       "        [3.8961e-02],\n",
       "        [9.5623e-01],\n",
       "        [9.9823e-01],\n",
       "        [9.9969e-01]], grad_fn=<SigmoidBackward>)"
      ]
     },
     "metadata": {},
     "execution_count": 13
    }
   ],
   "source": [
    "model(x_train)\n"
   ]
  },
  {
   "cell_type": "code",
   "execution_count": 14,
   "metadata": {},
   "outputs": [
    {
     "output_type": "stream",
     "name": "stdout",
     "text": [
      "[Parameter containing:\ntensor([[3.2534, 1.5181]], requires_grad=True), Parameter containing:\ntensor([-14.4837], requires_grad=True)]\n"
     ]
    }
   ],
   "source": [
    "print(list(model.parameters()))\n"
   ]
  },
  {
   "cell_type": "code",
   "execution_count": null,
   "metadata": {},
   "outputs": [],
   "source": []
  }
 ]
}