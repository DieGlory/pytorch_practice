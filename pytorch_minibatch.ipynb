{
 "metadata": {
  "language_info": {
   "codemirror_mode": {
    "name": "ipython",
    "version": 3
   },
   "file_extension": ".py",
   "mimetype": "text/x-python",
   "name": "python",
   "nbconvert_exporter": "python",
   "pygments_lexer": "ipython3",
   "version": "3.7.9-final"
  },
  "orig_nbformat": 2,
  "kernelspec": {
   "name": "Python 3.7.9 64-bit ('pytorch': conda)",
   "display_name": "Python 3.7.9 64-bit ('pytorch': conda)",
   "metadata": {
    "interpreter": {
     "hash": "0034f7d3cc7f74327bbee5f645e2b1521dda80e066af1cb1d1ca021bc9387771"
    }
   }
  }
 },
 "nbformat": 4,
 "nbformat_minor": 2,
 "cells": [
  {
   "cell_type": "code",
   "execution_count": 1,
   "metadata": {},
   "outputs": [],
   "source": [
    "import torch\n",
    "import torch.nn as nn\n",
    "import torch.nn.functional as F"
   ]
  },
  {
   "cell_type": "code",
   "execution_count": 2,
   "metadata": {},
   "outputs": [],
   "source": [
    "from torch.utils.data import TensorDataset, DataLoader"
   ]
  },
  {
   "cell_type": "code",
   "execution_count": 3,
   "metadata": {},
   "outputs": [],
   "source": [
    "x_train  =  torch.FloatTensor([[73,  80,  75], \n",
    "                               [93,  88,  93], \n",
    "                               [89,  91,  90], \n",
    "                               [96,  98,  100],   \n",
    "                               [73,  66,  70]])  \n",
    "y_train  =  torch.FloatTensor([[152],  [185],  [180],  [196],  [142]])"
   ]
  },
  {
   "cell_type": "code",
   "execution_count": 4,
   "metadata": {},
   "outputs": [],
   "source": [
    "dataset = TensorDataset(x_train,y_train)"
   ]
  },
  {
   "cell_type": "code",
   "execution_count": 5,
   "metadata": {},
   "outputs": [],
   "source": [
    "dataloader = DataLoader(dataset, batch_size=2, shuffle=True)\n",
    "model = nn.Linear(3,1)\n",
    "optimizer = torch.optim.SGD(model.parameters(),lr=1e-5)"
   ]
  },
  {
   "cell_type": "code",
   "execution_count": 6,
   "metadata": {},
   "outputs": [
    {
     "output_type": "stream",
     "name": "stdout",
     "text": [
      "Epoch    0/20 Batch 1/3 Cost: 46301.281250\nEpoch    0/20 Batch 2/3 Cost: 7815.278320\nEpoch    0/20 Batch 3/3 Cost: 1774.891724\nEpoch    1/20 Batch 1/3 Cost: 1218.272461\nEpoch    1/20 Batch 2/3 Cost: 564.259033\nEpoch    1/20 Batch 3/3 Cost: 154.648895\nEpoch    2/20 Batch 1/3 Cost: 46.814369\nEpoch    2/20 Batch 2/3 Cost: 8.214700\nEpoch    2/20 Batch 3/3 Cost: 3.311427\nEpoch    3/20 Batch 1/3 Cost: 0.873364\nEpoch    3/20 Batch 2/3 Cost: 3.145950\nEpoch    3/20 Batch 3/3 Cost: 0.114914\nEpoch    4/20 Batch 1/3 Cost: 1.976708\nEpoch    4/20 Batch 2/3 Cost: 0.141210\nEpoch    4/20 Batch 3/3 Cost: 0.114542\nEpoch    5/20 Batch 1/3 Cost: 0.017537\nEpoch    5/20 Batch 2/3 Cost: 1.978737\nEpoch    5/20 Batch 3/3 Cost: 0.226109\nEpoch    6/20 Batch 1/3 Cost: 1.781246\nEpoch    6/20 Batch 2/3 Cost: 0.318438\nEpoch    6/20 Batch 3/3 Cost: 0.004121\nEpoch    7/20 Batch 1/3 Cost: 0.085388\nEpoch    7/20 Batch 2/3 Cost: 1.933723\nEpoch    7/20 Batch 3/3 Cost: 0.335341\nEpoch    8/20 Batch 1/3 Cost: 0.156270\nEpoch    8/20 Batch 2/3 Cost: 0.015534\nEpoch    8/20 Batch 3/3 Cost: 3.795707\nEpoch    9/20 Batch 1/3 Cost: 1.192475\nEpoch    9/20 Batch 2/3 Cost: 0.968812\nEpoch    9/20 Batch 3/3 Cost: 0.294202\nEpoch   10/20 Batch 1/3 Cost: 0.037215\nEpoch   10/20 Batch 2/3 Cost: 1.826808\nEpoch   10/20 Batch 3/3 Cost: 0.308034\nEpoch   11/20 Batch 1/3 Cost: 1.661857\nEpoch   11/20 Batch 2/3 Cost: 0.296848\nEpoch   11/20 Batch 3/3 Cost: 0.167728\nEpoch   12/20 Batch 1/3 Cost: 0.058491\nEpoch   12/20 Batch 2/3 Cost: 1.992128\nEpoch   12/20 Batch 3/3 Cost: 0.351380\nEpoch   13/20 Batch 1/3 Cost: 0.049723\nEpoch   13/20 Batch 2/3 Cost: 1.869735\nEpoch   13/20 Batch 3/3 Cost: 0.257424\nEpoch   14/20 Batch 1/3 Cost: 1.744044\nEpoch   14/20 Batch 2/3 Cost: 0.206836\nEpoch   14/20 Batch 3/3 Cost: 0.168153\nEpoch   15/20 Batch 1/3 Cost: 1.809696\nEpoch   15/20 Batch 2/3 Cost: 0.355165\nEpoch   15/20 Batch 3/3 Cost: 0.141106\nEpoch   16/20 Batch 1/3 Cost: 1.902282\nEpoch   16/20 Batch 2/3 Cost: 0.348607\nEpoch   16/20 Batch 3/3 Cost: 0.116804\nEpoch   17/20 Batch 1/3 Cost: 1.910280\nEpoch   17/20 Batch 2/3 Cost: 0.344129\nEpoch   17/20 Batch 3/3 Cost: 0.115556\nEpoch   18/20 Batch 1/3 Cost: 0.013106\nEpoch   18/20 Batch 2/3 Cost: 1.936386\nEpoch   18/20 Batch 3/3 Cost: 0.288978\nEpoch   19/20 Batch 1/3 Cost: 0.043609\nEpoch   19/20 Batch 2/3 Cost: 0.033209\nEpoch   19/20 Batch 3/3 Cost: 3.943014\nEpoch   20/20 Batch 1/3 Cost: 1.060634\nEpoch   20/20 Batch 2/3 Cost: 0.930409\nEpoch   20/20 Batch 3/3 Cost: 0.422829\n"
     ]
    }
   ],
   "source": [
    "nb_epochs=20\n",
    "\n",
    "for epoch in range(nb_epochs+1):\n",
    "    for batch_idx, samples in enumerate(dataloader):\n",
    "        x_train,y_train = samples\n",
    "        prediction = model(x_train)\n",
    "        cost = F.mse_loss(prediction,y_train)\n",
    "\n",
    "        optimizer.zero_grad()\n",
    "        cost.backward()\n",
    "        optimizer.step()\n",
    "\n",
    "\n",
    "        print('Epoch {:4d}/{} Batch {}/{} Cost: {:.6f}'.format(\n",
    "            epoch, nb_epochs, batch_idx+1, len(dataloader),\n",
    "            cost.item()\n",
    "            ))"
   ]
  },
  {
   "cell_type": "code",
   "execution_count": 7,
   "metadata": {},
   "outputs": [
    {
     "output_type": "stream",
     "name": "stdout",
     "text": [
      "훈련 후 입력이 73, 80, 75일 때의 예측값 : tensor([[150.1461]], grad_fn=<AddmmBackward>)\n"
     ]
    }
   ],
   "source": [
    "new_var =  torch.FloatTensor([[73, 80, 75]]) \n",
    "pred_y = model(new_var) \n",
    "print(\"훈련 후 입력이 73, 80, 75일 때의 예측값 :\", pred_y) "
   ]
  },
  {
   "cell_type": "code",
   "execution_count": null,
   "metadata": {},
   "outputs": [],
   "source": []
  }
 ]
}